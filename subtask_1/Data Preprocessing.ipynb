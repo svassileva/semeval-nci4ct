{
  "cells": [
    {
      "cell_type": "markdown",
      "source": [
        "### Dependencies"
      ],
      "metadata": {
        "id": "tEZOSCzRfi--"
      }
    },
    {
      "cell_type": "code",
      "execution_count": null,
      "metadata": {
        "id": "Kb_T49GZ4Xj8"
      },
      "outputs": [],
      "source": [
        "import pandas as pd\n",
        "import math\n",
        "import os\n",
        "import json"
      ]
    },
    {
      "cell_type": "code",
      "source": [
        "path_to_ctr_directory = '/path/to/clinical_records_directory'\n",
        "path_to_source_df = '/path/to/source.json' \n",
        "path_to_output_df = '/path/to/output.json'\n",
        "\n",
        "# only used when preprocessing task 2 results. Not requires for preprocessing train/val sets. \n",
        "# this is either dev.json or train.json from the original set.\n",
        "# task 2 outputs only example ID + evidence indexes, so we need to augment each row with Primary_id, Secondary_id and Statement. \n",
        "path_to_original_dataframe = '/path/to/original/test.json' \n",
        "\n",
        "is_train_dataframe = False\n",
        "is_task_2_results_dataframe = False "
      ],
      "metadata": {
        "id": "AhWYu56im3zy"
      },
      "execution_count": null,
      "outputs": []
    },
    {
      "cell_type": "markdown",
      "source": [
        "### Preprocessing"
      ],
      "metadata": {
        "id": "MfEEXNPSiSMD"
      }
    },
    {
      "cell_type": "code",
      "execution_count": null,
      "metadata": {
        "id": "fWWzm3MNatFI"
      },
      "outputs": [],
      "source": [
        "def is_subsection_heading(answer_line):\n",
        "    return answer_line.strip().endswith(':') and len(answer_line.strip()) <= 30\n",
        "\n",
        "# augments a subsection heading with cohort information.\n",
        "def get_cohort_information(subsection_prefix):\n",
        "  if not is_subsection_heading(subsection_prefix):\n",
        "    return ''\n",
        "    \n",
        "  if 'adverse events' in subsection_prefix.lower():\n",
        "      subsection_prefix = subsection_prefix.lower().replace('adverse events', 'adverse events cohort')\n",
        "  if 'results' in subsection_prefix.lower():\n",
        "      subsection_prefix = subsection_prefix.lower().replace('results', 'results cohort')\n",
        "  if 'intervention' in subsection_prefix.lower():\n",
        "      subsection_prefix = subsection_prefix.lower().replace('intervention', 'intervention cohort')\n",
        "  return subsection_prefix"
      ]
    },
    {
      "cell_type": "code",
      "execution_count": null,
      "metadata": {
        "id": "Q-M2ILqDaf1E"
      },
      "outputs": [],
      "source": [
        "# returns fully augmented evidence sentences for a given premise. \n",
        "def get_premise_sentences(row):\n",
        "  section_id = row['Section_id']\n",
        "  premise_sentences = []\n",
        "  with open(os.path.join(path_to_ctr_directory, row['Primary_id'] + '.json')) as primary_trial:\n",
        "    primary_evidence_indices = row['Primary_evidence_index']\n",
        "    primary_trial_json = json.load(primary_trial)\n",
        "    primary_section = primary_trial_json[section_id]\n",
        "    premise_sentences.extend(['Primary trial: ' + get_cohort_information(primary_section[index]) + primary_section[index] for index in primary_evidence_indices])\n",
        "  if row['Type'] == 'Comparison':\n",
        "    with open(os.path.join(path_to_ctr_directory, row['Secondary_id'] + '.json')) as secondary_trial:\n",
        "      secondary_evidence_indices = row['Secondary_evidence_index']\n",
        "      secondary_trial_json = json.load(secondary_trial)\n",
        "      secondary_section = secondary_trial_json[section_id]\n",
        "      premise_sentences.extend(['Secondary trial: ' + get_cohort_information(secondary_section[index]) + secondary_section[index] for index in secondary_evidence_indices])\n",
        "  return premise_sentences"
      ]
    },
    {
      "cell_type": "code",
      "source": [
        "src_dataframe = pd.read_json(path_to_source_df).transpose()"
      ],
      "metadata": {
        "id": "0N1m8UlSCDtV"
      },
      "execution_count": null,
      "outputs": []
    },
    {
      "cell_type": "code",
      "source": [
        "# need to augment the task 2 results with at least the clinical trial IDs and the statement, so we can evaluate.\n",
        "if is_task_2_results_dataframe:\n",
        "  src_dataframe = src_dataframe.transpose()\n",
        "  original_df = pd.read_json(path_to_original_dataframe).transpose()\n",
        "    \n",
        "  original_df_instance_ids = original_df.index.tolist()\n",
        "\n",
        "  def get_column_value(instance_id, column):\n",
        "    return original_df.loc[instance_id][column] if instance_id in original_df_instance_ids else None\n",
        "  \n",
        "  original_df_column_names = list(original_df.columns.values)\n",
        "\n",
        "  for column_name in original_df_column_names:\n",
        "    src_dataframe[column_name] = src_dataframe.apply(lambda row: get_column_value(row.name, column_name), axis=1)  "
      ],
      "metadata": {
        "id": "9wl04GC0BIOF"
      },
      "execution_count": null,
      "outputs": []
    },
    {
      "cell_type": "code",
      "source": [
        "# get the premise sentences for each row.\n",
        "src_dataframe['Premise'] = src_dataframe.apply(get_premise_sentences, axis=1)"
      ],
      "metadata": {
        "id": "xOvXy97TkCuG"
      },
      "execution_count": null,
      "outputs": []
    },
    {
      "cell_type": "code",
      "source": [
        "# transform each premise sentence into a separate entry. This is only required for the train set.\n",
        "if is_train_dataframe:\n",
        "  src_dataframe = src_dataframe.explode('Premise')\n",
        "  src_dataframe.reset_index(inplace=True, drop=True)\n",
        "\n",
        "src_dataframe.to_json(path_to_output_df)\n",
        "\n",
        "src_dataframe.head()"
      ],
      "metadata": {
        "id": "IikUtSjmkYeH"
      },
      "execution_count": null,
      "outputs": []
    }
  ],
  "metadata": {
    "colab": {
      "provenance": []
    },
    "gpuClass": "standard",
    "kernelspec": {
      "display_name": "Python 3",
      "name": "python3"
    },
    "language_info": {
      "name": "python"
    }
  },
  "nbformat": 4,
  "nbformat_minor": 0
}