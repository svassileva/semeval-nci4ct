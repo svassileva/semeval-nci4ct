{
  "cells": [
    {
      "cell_type": "markdown",
      "source": [
        "### Dependencies"
      ],
      "metadata": {
        "id": "tEZOSCzRfi--"
      }
    },
    {
      "cell_type": "code",
      "execution_count": 20,
      "metadata": {
        "id": "Kb_T49GZ4Xj8"
      },
      "outputs": [],
      "source": [
        "import pandas as pd\n",
        "import math\n",
        "import os\n",
        "import json"
      ]
    },
    {
      "cell_type": "code",
      "source": [
        "path_to_ctr_directory = '/path/to/clinical_records_directory'\n",
        "path_to_source_df = '/path/to/source.json' \n",
        "path_to_output_df = '/path/to/output.json'"
      ],
      "metadata": {
        "id": "AhWYu56im3zy"
      },
      "execution_count": 21,
      "outputs": []
    },
    {
      "cell_type": "markdown",
      "source": [
        "### Preprocessing"
      ],
      "metadata": {
        "id": "MfEEXNPSiSMD"
      }
    },
    {
      "cell_type": "code",
      "execution_count": 22,
      "metadata": {
        "id": "fWWzm3MNatFI"
      },
      "outputs": [],
      "source": [
        "def is_subsection_heading(answer_line):\n",
        "    return answer_line.strip().endswith(':') and len(answer_line.strip()) <= 30\n",
        "\n",
        "# augments a subsection heading with cohort information.\n",
        "def get_cohort_information(subsection_prefix):\n",
        "  if not is_subsection_heading(subsection_prefix):\n",
        "    return ''\n",
        "    \n",
        "  if 'adverse events' in subsection_prefix.lower():\n",
        "      subsection_prefix = subsection_prefix.lower().replace('adverse events', 'adverse events cohort')\n",
        "  if 'results' in subsection_prefix.lower():\n",
        "      subsection_prefix = subsection_prefix.lower().replace('results', 'results cohort')\n",
        "  if 'intervention' in subsection_prefix.lower():\n",
        "      subsection_prefix = subsection_prefix.lower().replace('intervention', 'intervention cohort')\n",
        "  return subsection_prefix"
      ]
    },
    {
      "cell_type": "code",
      "execution_count": 23,
      "metadata": {
        "id": "Q-M2ILqDaf1E"
      },
      "outputs": [],
      "source": [
        "# returns fully augmented evidence sentences for a given premise. \n",
        "def get_premise_sentences(row):\n",
        "  section_id = row['Section_id']\n",
        "  premise_sentences = []\n",
        "  with open(os.path.join(path_to_ctr_directory, row['Primary_id'] + '.json')) as primary_trial:\n",
        "    primary_evidence_indices = row['Primary_evidence_index']\n",
        "    primary_trial_json = json.load(primary_trial)\n",
        "    primary_section = primary_trial_json[section_id]\n",
        "    premise_sentences.extend(['Primary trial: ' + get_cohort_information(primary_section[index]) + primary_section[index] for index in primary_evidence_indices])\n",
        "  if row['Type'] == 'Comparison':\n",
        "    with open(os.path.join(path_to_ctr_directory, row['Secondary_id'] + '.json')) as secondary_trial:\n",
        "      secondary_evidence_indices = row['Secondary_evidence_index']\n",
        "      secondary_trial_json = json.load(secondary_trial)\n",
        "      secondary_section = secondary_trial_json[section_id]\n",
        "      premise_sentences.extend(['Secondary trial: ' + get_cohort_information(secondary_section[index]) + secondary_section[index] for index in secondary_evidence_indices])\n",
        "  return premise_sentences"
      ]
    },
    {
      "cell_type": "code",
      "source": [
        "src_dataframe = pd.read_json(path_to_source_df).transpose()"
      ],
      "metadata": {
        "id": "puaNCkD2ieq4"
      },
      "execution_count": 24,
      "outputs": []
    },
    {
      "cell_type": "code",
      "source": [
        "# get the premise sentences for each row.\n",
        "src_dataframe['Premise'] = src_dataframe.apply(get_premise_sentences, axis=1)"
      ],
      "metadata": {
        "id": "xOvXy97TkCuG"
      },
      "execution_count": 25,
      "outputs": []
    },
    {
      "cell_type": "code",
      "source": [
        "# transform each premise sentence into a separate entry.\n",
        "src_dataframe = src_dataframe.explode('Premise')\n",
        "src_dataframe.reset_index(inplace=True, drop=True)\n",
        "\n",
        "src_dataframe.to_json(path_to_output_df)\n",
        "\n",
        "src_dataframe.head()"
      ],
      "metadata": {
        "colab": {
          "base_uri": "https://localhost:8080/",
          "height": 337
        },
        "id": "IikUtSjmkYeH",
        "outputId": "06d9f873-abf0-4cdf-885d-d9c1edcd7539"
      },
      "execution_count": 26,
      "outputs": [
        {
          "output_type": "execute_result",
          "data": {
            "text/plain": [
              "     Type Section_id   Primary_id  \\\n",
              "0  Single    Results  NCT00066573   \n",
              "1  Single    Results  NCT00066573   \n",
              "2  Single    Results  NCT00066573   \n",
              "3  Single    Results  NCT00066573   \n",
              "4  Single    Results  NCT00066573   \n",
              "\n",
              "                                           Statement          Label  \\\n",
              "0  there is a 13.2 percent (%) difference between...  Contradiction   \n",
              "1  there is a 13.2 percent (%) difference between...  Contradiction   \n",
              "2  there is a 13.2 percent (%) difference between...  Contradiction   \n",
              "3  there is a 13.2 percent (%) difference between...  Contradiction   \n",
              "4  there is a 13.2 percent (%) difference between...  Contradiction   \n",
              "\n",
              "                              Primary_evidence_index Secondary_id  \\\n",
              "0  [0, 1, 2, 3, 4, 5, 6, 7, 8, 9, 10, 11, 12, 13,...          NaN   \n",
              "1  [0, 1, 2, 3, 4, 5, 6, 7, 8, 9, 10, 11, 12, 13,...          NaN   \n",
              "2  [0, 1, 2, 3, 4, 5, 6, 7, 8, 9, 10, 11, 12, 13,...          NaN   \n",
              "3  [0, 1, 2, 3, 4, 5, 6, 7, 8, 9, 10, 11, 12, 13,...          NaN   \n",
              "4  [0, 1, 2, 3, 4, 5, 6, 7, 8, 9, 10, 11, 12, 13,...          NaN   \n",
              "\n",
              "  Secondary_evidence_index                                            Premise  \n",
              "0                      NaN  Primary trial: Outcome Measurement:Outcome Mea...  \n",
              "1                      NaN                 Primary trial: Event-free Survival  \n",
              "2                      NaN  Primary trial: Event free survival, the primar...  \n",
              "3                      NaN                 Primary trial: Time frame: 5 years  \n",
              "4                      NaN         Primary trial: results cohort 1:Results 1:  "
            ],
            "text/html": [
              "\n",
              "  <div id=\"df-3949e52c-c347-4081-89da-40fdefa3568c\">\n",
              "    <div class=\"colab-df-container\">\n",
              "      <div>\n",
              "<style scoped>\n",
              "    .dataframe tbody tr th:only-of-type {\n",
              "        vertical-align: middle;\n",
              "    }\n",
              "\n",
              "    .dataframe tbody tr th {\n",
              "        vertical-align: top;\n",
              "    }\n",
              "\n",
              "    .dataframe thead th {\n",
              "        text-align: right;\n",
              "    }\n",
              "</style>\n",
              "<table border=\"1\" class=\"dataframe\">\n",
              "  <thead>\n",
              "    <tr style=\"text-align: right;\">\n",
              "      <th></th>\n",
              "      <th>Type</th>\n",
              "      <th>Section_id</th>\n",
              "      <th>Primary_id</th>\n",
              "      <th>Statement</th>\n",
              "      <th>Label</th>\n",
              "      <th>Primary_evidence_index</th>\n",
              "      <th>Secondary_id</th>\n",
              "      <th>Secondary_evidence_index</th>\n",
              "      <th>Premise</th>\n",
              "    </tr>\n",
              "  </thead>\n",
              "  <tbody>\n",
              "    <tr>\n",
              "      <th>0</th>\n",
              "      <td>Single</td>\n",
              "      <td>Results</td>\n",
              "      <td>NCT00066573</td>\n",
              "      <td>there is a 13.2 percent (%) difference between...</td>\n",
              "      <td>Contradiction</td>\n",
              "      <td>[0, 1, 2, 3, 4, 5, 6, 7, 8, 9, 10, 11, 12, 13,...</td>\n",
              "      <td>NaN</td>\n",
              "      <td>NaN</td>\n",
              "      <td>Primary trial: Outcome Measurement:Outcome Mea...</td>\n",
              "    </tr>\n",
              "    <tr>\n",
              "      <th>1</th>\n",
              "      <td>Single</td>\n",
              "      <td>Results</td>\n",
              "      <td>NCT00066573</td>\n",
              "      <td>there is a 13.2 percent (%) difference between...</td>\n",
              "      <td>Contradiction</td>\n",
              "      <td>[0, 1, 2, 3, 4, 5, 6, 7, 8, 9, 10, 11, 12, 13,...</td>\n",
              "      <td>NaN</td>\n",
              "      <td>NaN</td>\n",
              "      <td>Primary trial: Event-free Survival</td>\n",
              "    </tr>\n",
              "    <tr>\n",
              "      <th>2</th>\n",
              "      <td>Single</td>\n",
              "      <td>Results</td>\n",
              "      <td>NCT00066573</td>\n",
              "      <td>there is a 13.2 percent (%) difference between...</td>\n",
              "      <td>Contradiction</td>\n",
              "      <td>[0, 1, 2, 3, 4, 5, 6, 7, 8, 9, 10, 11, 12, 13,...</td>\n",
              "      <td>NaN</td>\n",
              "      <td>NaN</td>\n",
              "      <td>Primary trial: Event free survival, the primar...</td>\n",
              "    </tr>\n",
              "    <tr>\n",
              "      <th>3</th>\n",
              "      <td>Single</td>\n",
              "      <td>Results</td>\n",
              "      <td>NCT00066573</td>\n",
              "      <td>there is a 13.2 percent (%) difference between...</td>\n",
              "      <td>Contradiction</td>\n",
              "      <td>[0, 1, 2, 3, 4, 5, 6, 7, 8, 9, 10, 11, 12, 13,...</td>\n",
              "      <td>NaN</td>\n",
              "      <td>NaN</td>\n",
              "      <td>Primary trial: Time frame: 5 years</td>\n",
              "    </tr>\n",
              "    <tr>\n",
              "      <th>4</th>\n",
              "      <td>Single</td>\n",
              "      <td>Results</td>\n",
              "      <td>NCT00066573</td>\n",
              "      <td>there is a 13.2 percent (%) difference between...</td>\n",
              "      <td>Contradiction</td>\n",
              "      <td>[0, 1, 2, 3, 4, 5, 6, 7, 8, 9, 10, 11, 12, 13,...</td>\n",
              "      <td>NaN</td>\n",
              "      <td>NaN</td>\n",
              "      <td>Primary trial: results cohort 1:Results 1:</td>\n",
              "    </tr>\n",
              "  </tbody>\n",
              "</table>\n",
              "</div>\n",
              "      <button class=\"colab-df-convert\" onclick=\"convertToInteractive('df-3949e52c-c347-4081-89da-40fdefa3568c')\"\n",
              "              title=\"Convert this dataframe to an interactive table.\"\n",
              "              style=\"display:none;\">\n",
              "        \n",
              "  <svg xmlns=\"http://www.w3.org/2000/svg\" height=\"24px\"viewBox=\"0 0 24 24\"\n",
              "       width=\"24px\">\n",
              "    <path d=\"M0 0h24v24H0V0z\" fill=\"none\"/>\n",
              "    <path d=\"M18.56 5.44l.94 2.06.94-2.06 2.06-.94-2.06-.94-.94-2.06-.94 2.06-2.06.94zm-11 1L8.5 8.5l.94-2.06 2.06-.94-2.06-.94L8.5 2.5l-.94 2.06-2.06.94zm10 10l.94 2.06.94-2.06 2.06-.94-2.06-.94-.94-2.06-.94 2.06-2.06.94z\"/><path d=\"M17.41 7.96l-1.37-1.37c-.4-.4-.92-.59-1.43-.59-.52 0-1.04.2-1.43.59L10.3 9.45l-7.72 7.72c-.78.78-.78 2.05 0 2.83L4 21.41c.39.39.9.59 1.41.59.51 0 1.02-.2 1.41-.59l7.78-7.78 2.81-2.81c.8-.78.8-2.07 0-2.86zM5.41 20L4 18.59l7.72-7.72 1.47 1.35L5.41 20z\"/>\n",
              "  </svg>\n",
              "      </button>\n",
              "      \n",
              "  <style>\n",
              "    .colab-df-container {\n",
              "      display:flex;\n",
              "      flex-wrap:wrap;\n",
              "      gap: 12px;\n",
              "    }\n",
              "\n",
              "    .colab-df-convert {\n",
              "      background-color: #E8F0FE;\n",
              "      border: none;\n",
              "      border-radius: 50%;\n",
              "      cursor: pointer;\n",
              "      display: none;\n",
              "      fill: #1967D2;\n",
              "      height: 32px;\n",
              "      padding: 0 0 0 0;\n",
              "      width: 32px;\n",
              "    }\n",
              "\n",
              "    .colab-df-convert:hover {\n",
              "      background-color: #E2EBFA;\n",
              "      box-shadow: 0px 1px 2px rgba(60, 64, 67, 0.3), 0px 1px 3px 1px rgba(60, 64, 67, 0.15);\n",
              "      fill: #174EA6;\n",
              "    }\n",
              "\n",
              "    [theme=dark] .colab-df-convert {\n",
              "      background-color: #3B4455;\n",
              "      fill: #D2E3FC;\n",
              "    }\n",
              "\n",
              "    [theme=dark] .colab-df-convert:hover {\n",
              "      background-color: #434B5C;\n",
              "      box-shadow: 0px 1px 3px 1px rgba(0, 0, 0, 0.15);\n",
              "      filter: drop-shadow(0px 1px 2px rgba(0, 0, 0, 0.3));\n",
              "      fill: #FFFFFF;\n",
              "    }\n",
              "  </style>\n",
              "\n",
              "      <script>\n",
              "        const buttonEl =\n",
              "          document.querySelector('#df-3949e52c-c347-4081-89da-40fdefa3568c button.colab-df-convert');\n",
              "        buttonEl.style.display =\n",
              "          google.colab.kernel.accessAllowed ? 'block' : 'none';\n",
              "\n",
              "        async function convertToInteractive(key) {\n",
              "          const element = document.querySelector('#df-3949e52c-c347-4081-89da-40fdefa3568c');\n",
              "          const dataTable =\n",
              "            await google.colab.kernel.invokeFunction('convertToInteractive',\n",
              "                                                     [key], {});\n",
              "          if (!dataTable) return;\n",
              "\n",
              "          const docLinkHtml = 'Like what you see? Visit the ' +\n",
              "            '<a target=\"_blank\" href=https://colab.research.google.com/notebooks/data_table.ipynb>data table notebook</a>'\n",
              "            + ' to learn more about interactive tables.';\n",
              "          element.innerHTML = '';\n",
              "          dataTable['output_type'] = 'display_data';\n",
              "          await google.colab.output.renderOutput(dataTable, element);\n",
              "          const docLink = document.createElement('div');\n",
              "          docLink.innerHTML = docLinkHtml;\n",
              "          element.appendChild(docLink);\n",
              "        }\n",
              "      </script>\n",
              "    </div>\n",
              "  </div>\n",
              "  "
            ]
          },
          "metadata": {},
          "execution_count": 26
        }
      ]
    }
  ],
  "metadata": {
    "colab": {
      "provenance": []
    },
    "gpuClass": "standard",
    "kernelspec": {
      "display_name": "Python 3",
      "name": "python3"
    },
    "language_info": {
      "name": "python"
    }
  },
  "nbformat": 4,
  "nbformat_minor": 0
}