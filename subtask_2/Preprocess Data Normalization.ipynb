{
 "cells": [
  {
   "cell_type": "code",
   "execution_count": 1,
   "id": "312d7c27",
   "metadata": {
    "ExecuteTime": {
     "end_time": "2023-01-30T07:30:04.338861Z",
     "start_time": "2023-01-30T07:30:03.924980Z"
    }
   },
   "outputs": [],
   "source": [
    "import pandas as pd\n",
    "import json"
   ]
  },
  {
   "cell_type": "code",
   "execution_count": 68,
   "id": "ec3ae594",
   "metadata": {
    "ExecuteTime": {
     "end_time": "2023-01-30T08:31:58.668522Z",
     "start_time": "2023-01-30T08:31:58.659607Z"
    }
   },
   "outputs": [],
   "source": [
    "filename = \"test\""
   ]
  },
  {
   "cell_type": "code",
   "execution_count": 69,
   "id": "9f196993",
   "metadata": {
    "ExecuteTime": {
     "end_time": "2023-01-30T08:31:59.380241Z",
     "start_time": "2023-01-30T08:31:59.360843Z"
    }
   },
   "outputs": [],
   "source": [
    "with open(f\"{filename}.json\") as file:\n",
    "    file_json = json.load(file)"
   ]
  },
  {
   "cell_type": "code",
   "execution_count": 4,
   "id": "8e806e46",
   "metadata": {
    "ExecuteTime": {
     "end_time": "2023-01-30T07:30:06.197590Z",
     "start_time": "2023-01-30T07:30:06.194106Z"
    }
   },
   "outputs": [],
   "source": [
    "def read_ct_json(filename):\n",
    "    with open(f\"CT json/{filename}.json\") as file:\n",
    "        ct_json = json.load(file)\n",
    "        \n",
    "    return ct_json"
   ]
  },
  {
   "cell_type": "code",
   "execution_count": 21,
   "id": "efb677a2",
   "metadata": {
    "ExecuteTime": {
     "end_time": "2023-01-30T07:37:09.055820Z",
     "start_time": "2023-01-30T07:37:09.052116Z"
    }
   },
   "outputs": [],
   "source": [
    "import json\n",
    "\n",
    "def write_ct_json(filename, json_content):\n",
    "    with open(f\"normalized/CT json/{filename}.json\", \"w\") as file:\n",
    "        json.dump(json_content, file, indent=4)"
   ]
  },
  {
   "cell_type": "code",
   "execution_count": 54,
   "id": "bce09c6a",
   "metadata": {
    "ExecuteTime": {
     "end_time": "2023-01-30T08:26:52.874567Z",
     "start_time": "2023-01-30T08:26:52.853795Z"
    }
   },
   "outputs": [],
   "source": [
    "import re\n",
    "\n",
    "def normalize_text(text):  \n",
    "    # special symbols\n",
    "    text = re.sub(\"([0-9]+)\\+\", r\" more than \\1\", text)\n",
    "    text = re.sub(\"</=\", r\" less than or equal to \", text)\n",
    "    text = re.sub(\">/=\", r\" greater than or equal to \", text)\n",
    "    text = re.sub(\"<=\", r\" less than or equal to \", text)\n",
    "    text = re.sub(\">=\", r\" greater than or equal to \", text)\n",
    "    text = re.sub(\"<\", r\" less than \", text)\n",
    "    text = re.sub(\">\", r\" greater than \", text)\n",
    "    text = re.sub(\"%\", r\" percent (%)\", text)\n",
    "    \n",
    "    # abbreviations\n",
    "    text = re.sub(\" AEs\", r\" Adverse Events\", text)\n",
    "    text = re.sub(\" Aes\", r\" Adverse Events\", text)\n",
    "    text = re.sub(\" PFS\", r\" Progression Free Survival\", text)\n",
    "    text = re.sub(\" IV \", r\" intravenous \", text)\n",
    "    text = re.sub(\" PO \", r\" orally \", text)\n",
    "    text = re.sub(\" qd \", r\" every day \", text)\n",
    "    \n",
    "    return text.strip()"
   ]
  },
  {
   "cell_type": "code",
   "execution_count": 55,
   "id": "7a2f11c6",
   "metadata": {
    "ExecuteTime": {
     "end_time": "2023-01-30T08:26:53.783728Z",
     "start_time": "2023-01-30T08:26:53.780129Z"
    }
   },
   "outputs": [],
   "source": [
    "def normalize_adverse_event(text):\n",
    "    #x/y (x/y%) -> x cases out of y participants (x/y percent %)\n",
    "    \n",
    "    text= re.sub(\"([1])/([0-9]+)\", r\"1 case out of \\2 participants\", text)\n",
    "    text= re.sub(\"([0-9]+)/([0-9]+)\", r\"\\1 cases out of \\2 participants\", text)\n",
    "    \n",
    "    return text"
   ]
  },
  {
   "cell_type": "code",
   "execution_count": 56,
   "id": "a150b66c",
   "metadata": {
    "ExecuteTime": {
     "end_time": "2023-01-30T08:26:56.476041Z",
     "start_time": "2023-01-30T08:26:56.472691Z"
    }
   },
   "outputs": [],
   "source": [
    "def is_subsection_heading(answer_line):\n",
    "    return answer_line.strip().endswith(':') and len(answer_line.strip()) <= 30"
   ]
  },
  {
   "cell_type": "code",
   "execution_count": 61,
   "id": "96d67d2b",
   "metadata": {
    "ExecuteTime": {
     "end_time": "2023-01-30T08:29:46.219676Z",
     "start_time": "2023-01-30T08:29:46.213373Z"
    }
   },
   "outputs": [],
   "source": [
    "def process_data_item(key):\n",
    "    ct_json = read_ct_json(file_json[key]['Primary_id'])\n",
    "    qn = file_json[key]['Statement']\n",
    "    section = file_json[key]['Section_id']\n",
    "    ct_type = file_json[key]['Type']\n",
    "    \n",
    "    processed_qn = normalize_text(qn)\n",
    "    \n",
    "    sections = ['Eligibility', 'Intervention', 'Results', 'Adverse Events']\n",
    "    \n",
    "    for section in sections:\n",
    "        new_section = []\n",
    "        for section_line in ct_json[section]:\n",
    "            new_section_line = normalize_text(section_line)\n",
    "        \n",
    "            if section == 'Adverse Events':\n",
    "                new_section_line = normalize_adverse_event(new_section_line)\n",
    "        \n",
    "            new_section.append(new_section_line)\n",
    " \n",
    "        ct_json[section] = new_section\n",
    "    \n",
    "    secondary_ct_json = {}\n",
    "    \n",
    "    if 'Secondary_id' in file_json[key].keys():        \n",
    "        secondary_ct_json = read_ct_json(file_json[key]['Secondary_id'])\n",
    "        secondary_text_context = '.'.join(secondary_ct_json[section])\n",
    "        \n",
    "        for section in sections:\n",
    "            new_second_section = []\n",
    "            for section_line in secondary_ct_json[section]:\n",
    "                new_section_line = normalize_text(section_line)\n",
    "            \n",
    "                if section == 'Adverse Events':\n",
    "                    new_section_line = normalize_adverse_event(new_section_line)\n",
    "                        \n",
    "                new_second_section.append(new_section_line)\n",
    "            \n",
    "            secondary_ct_json[section] = new_second_section\n",
    "\n",
    "    return processed_qn, ct_json, secondary_ct_json"
   ]
  },
  {
   "cell_type": "code",
   "execution_count": 66,
   "id": "3ce1cc84",
   "metadata": {
    "ExecuteTime": {
     "end_time": "2023-01-30T08:31:27.814950Z",
     "start_time": "2023-01-30T08:31:27.793455Z"
    }
   },
   "outputs": [
    {
     "data": {
      "text/plain": [
       "('Most of the cases of CHF in the primary trial, were in cohort 1.',\n",
       " {'Clinical Trial ID': 'NCT00777049',\n",
       "  'Intervention': ['INTERVENTION 1:',\n",
       "   'ER+ and/or PgR+ (Arm I)',\n",
       "   'Panobinostat - LBH589: hard gelatine capsule - 5mg and 20mg',\n",
       "   'INTERVENTION 2:',\n",
       "   'ER- and PgR- (Arm II)',\n",
       "   'Panobinostat - LBH589: hard gelatine capsule - 5mg and 20mg'],\n",
       "  'Eligibility': ['Inclusion Criteria:',\n",
       "   'Written informed consent obtained prior to any study-related procedures',\n",
       "   'Women  18 years old',\n",
       "   'Patients with an ECOG performance status of  2 assessed within 2 weeks (14 days) prior to registration',\n",
       "   'Histologically or cytologically confirmed breast cancer with locally recurrent or radiological evidence of metastatic disease. Locally recurrent disease must not be amenable to resection with curative intent.',\n",
       "   'Measurable disease per RECIST (Response Evaluation Criteria in Solid Tumor) guidelines',\n",
       "   'HER2-negative patients by local laboratory testing (IHC 0 or  more than 1 staining, IHC  more than 2 staining but in situ hybridization negative, or in situ hybridization negative).',\n",
       "   'ER and PgR testing from a local laboratory is required prior to patient registration',\n",
       "   'For Arm I: at least two lines of prior endocrine therapy (in adjuvant and/or metastatic settings) are required. Up to two prior cytotoxic chemotherapies are allowed in the metastatic setting (prior adjuvant and neoadjuvant chemotherapy is allowed).',\n",
       "   'For Arm II: up to 2 prior cytotoxic chemotherapy regimens for treatment of metastatic or locally recurrent breast cancer are allowed.',\n",
       "   'Complete radiological tumor measurement within 4 weeks (28 days) prior to registration:',\n",
       "   'Chest: CT scan with intravenous contrast if the contrast is not medically contraindicated or MRI',\n",
       "   'Abdomen: CT scan with intravenous or oral contrast if the contrast is not medically contraindicated or MRI',\n",
       "   'Brain: CT scan or MRI',\n",
       "   'Bone: Whole body Bone Scintigraphy',\n",
       "   'Patients must meet the following laboratory criteria within 2 weeks (14 days) prior to registration:',\n",
       "   'Hematology',\n",
       "   'Neutrophil count of  greater than  1200/mm3',\n",
       "   'Platelet count of  greater than  100,000/mm3',\n",
       "   'Hemoglobin  90 g/L',\n",
       "   'Biochemistry',\n",
       "   'AST/SGOT and ALT/SGPT  2.5 x upper limit of normal (ULN) or  5.0 x ULN if the transaminase elevation is due to disease involvement',\n",
       "   'Serum bilirubin  1.5 x ULN',\n",
       "   'Serum creatinine  1.5 x ULN or 24-hour creatinine clearance  50 mL/min',\n",
       "   'Serum potassium, sodium, magnesium, phosphorus, and calcium within normal limits for the institution',\n",
       "   'Serum albumin  LLN or 30g/L',\n",
       "   'Clinically euthyroid function (TSH and free T4). (Patients are permitted to receive thyroid hormone supplements to treat underlying hypothyroidism).',\n",
       "   'LVEF assessment (2-D echocardiogram or MUGA scan) performed within 6 weeks prior to registration, showing a LVEF value  greater than  50 percent (%)',\n",
       "   'Electrocardiogram performed within 1 week prior to registration (details about findings on the Electrocardiogram that are not acceptable for participating in the study are reported in the Exclusion criteria section)',\n",
       "   'Women of childbearing potential (WOCBP) must have a negative serum pregnancy test within 7 days prior to registration and agree to appropriate method of pregnancy prevention.',\n",
       "   'Patient should have an archival tumor sample available for confirmation of HER2, Estrogen and Progesterone status by the central lab.',\n",
       "   'Exclusion Criteria:',\n",
       "   'Prior HDAC, DAC, HSP90 inhibitors or valproic acid for the treatment of cancer',\n",
       "   'Patients who need valproic acid for any other medical condition during the study or within 5 days prior to first panobinostat treatment',\n",
       "   'Patients who have received prior systemic anti-cancer therapy (cytotoxic chemotherapy, endocrine therapy, targeted therapy, monoclonal antibody or biologic therapy) or investigational agent within the last 4 weeks prior to registration (6 weeks for nitrosoureas and mitomycin; 2 weeks for capecitabine)',\n",
       "   'Patients who have received prior radiotherapy to  25 percent (%) of the bone marrow within the last 4 weeks prior to registration; local radiotherapy is allowed however all recently irradiated lesions should not be included in the measurable disease assessment.',\n",
       "   'Patients who have received prior investigational agents within the last 4 weeks prior to registration',\n",
       "   'Patients with unresolved diarrhea CTCAE grade 1',\n",
       "   'Impairment of gastrointestinal (GI) function or GI disease that may significantly alter the absorption of oral panobinostat',\n",
       "   'History of cardiac dysfunction including any one of the following:',\n",
       "   'Complete left bundle branch block or obligate use of a cardiac pacemaker or congenital long QT syndrome or history or presence of ventricular tachyarrhythmias or clinically significant resting bradycardia ( less than 50 beats per minute) or QTcF  greater than  450 msec on screening ECG or right bundle branch block and left anterior hemiblock (bifascicular block)',\n",
       "   'Presence of unstable atrial fibrillation (ventricular response rate  greater than 100 bpm). Patients with stable atrial fibrillation are allowed in the study provided they do not meet the other cardiac exclusion criteria',\n",
       "   'Previous history angina pectoris or acute MI within 6 months of registration',\n",
       "   'Congestive Heart Failure (New York Heart Association functional classification III-IV)',\n",
       "   'History of unexplained syncope',\n",
       "   'Other clinically significant heart disease (e.g. cardiomyopathy, cardiac artery disease, uncontrolled hypertension, or history of poor compliance with an antihypertensive regimen)',\n",
       "   'Family history of long QT syndrome, unexplained syncope or unexplained sudden death',\n",
       "   'Acute or chronic liver or renal disease',\n",
       "   'Other concurrent severe and/or uncontrolled medical conditions (e.g., uncontrolled diabetes mellitus, active untreated or uncontrolled infection, chronic obstructive or chronic restrictive pulmonary disease including dyspnoea at rest from any cause) that could cause unacceptable safety risks or compromise compliance with the protocol',\n",
       "   'Concomitant use of drugs with a risk of causing torsades de pointes where such treatments cannot be discontinued or switched to a different medication prior to starting study drug',\n",
       "   'Brain metastases, unless patient randomized on study at least 90 days from completion of brain radiotherapy and / or surgery without radiologic or functional evidence of progressive brain metastases, and off corticosteroids above the dose of 7.5 mg prednisone or equivalent; No concurrent radiotherapy for brain metastasis is allowed',\n",
       "   'Clinically significant third space fluid accumulation',\n",
       "   'Concurrent biphosphonates unless if initiated prior to study entry (at least 4 weeks before patient registration)',\n",
       "   'Pregnant (i.e., positive beta-human chorionic gonadotropin test) or breast feeding patient',\n",
       "   'Unable to swallow oral medications',\n",
       "   'Not willing to use a double barrier method of non-hormonal birth control. Contraception must be used during the study and for 30 days after last dose of study treatment.',\n",
       "   'Patients with any significant history of non-compliance to medical regimens or with inability to grant a reliable informed consent'],\n",
       "  'Results': ['Outcome Measurement:',\n",
       "   'Objective Response Rate (as Determined by Investigator): the Percentage of Patients Assigned to a Treatment Arm With a Confirmed Best Response of CR or PR.',\n",
       "   'The assessment of overall response (OR) is based on the response of target lesion, of non-target lesion, and on presence of new lesions (RECIST criteria version 1.0 using imaging techniques; as per investigator assessment).',\n",
       "   'Time frame: 6 years and 2 months',\n",
       "   'Results 1:',\n",
       "   'Arm/Group Title: ER+ and/or PgR+ (Arm I)',\n",
       "   'Arm/Group Description: Panobinostat - LBH589: hard gelatine capsule - 5mg and 20mg',\n",
       "   'Overall Number of Participants Analyzed: 33',\n",
       "   'Measure Type: Number',\n",
       "   'Unit of Measure: participants  Complete Response: 0',\n",
       "   'Partial Response: 1',\n",
       "   'Stable Disease / Incompete Response: 13',\n",
       "   'Progressive Disease: 14',\n",
       "   'Missing: 5',\n",
       "   'Results 2:',\n",
       "   'Arm/Group Title: ER- and PgR- (Arm II)',\n",
       "   'Arm/Group Description: Panobinostat - LBH589: hard gelatine capsule - 5mg and 20mg',\n",
       "   'Overall Number of Participants Analyzed: 21',\n",
       "   'Measure Type: Number',\n",
       "   'Unit of Measure: participants  Complete Response: 1',\n",
       "   'Partial Response: 0',\n",
       "   'Stable Disease / Incompete Response: 4',\n",
       "   'Progressive Disease: 14',\n",
       "   'Missing: 2'],\n",
       "  'Adverse Events': ['Adverse Events 1:',\n",
       "   'Total: 12 cases out of 32 participants (37.50 percent (%))',\n",
       "   'Anaemia 0 cases out of 32 participants (0.00 percent (%))',\n",
       "   'Neutropenia 1 case out of 32 participants (3.13 percent (%))',\n",
       "   'Thrombocytopenia 4 cases out of 32 participants (12.50 percent (%))',\n",
       "   'Atrial fibrillation 1 case out of 32 participants (3.13 percent (%))',\n",
       "   'Cardiac failure congestive 1 case out of 32 participants (3.13 percent (%))',\n",
       "   'Myocardial ischaemia 1 case out of 32 participants (3.13 percent (%))',\n",
       "   'Abdominal discomfort 0 cases out of 32 participants (0.00 percent (%))',\n",
       "   'Ascites 1 case out of 32 participants (3.13 percent (%))',\n",
       "   'Constipation 0 cases out of 32 participants (0.00 percent (%))',\n",
       "   'Rectal haemorrhage 1 case out of 32 participants (3.13 percent (%))',\n",
       "   'Vomiting 1 case out of 32 participants (3.13 percent (%))',\n",
       "   'Fatigue 1 case out of 32 participants (3.13 percent (%))',\n",
       "   'Adverse Events 2:',\n",
       "   'Total: 8 cases out of 20 participants (40.00 percent (%))',\n",
       "   'Anaemia 1 case out of 20 participants (5.00 percent (%))',\n",
       "   'Neutropenia 0 cases out of 20 participants (0.00 percent (%))',\n",
       "   'Thrombocytopenia 1 case out of 20 participants (5.00 percent (%))',\n",
       "   'Atrial fibrillation 0 cases out of 20 participants (0.00 percent (%))',\n",
       "   'Cardiac failure congestive 0 cases out of 20 participants (0.00 percent (%))',\n",
       "   'Myocardial ischaemia 0 cases out of 20 participants (0.00 percent (%))',\n",
       "   'Abdominal discomfort 1 case out of 20 participants (5.00 percent (%))',\n",
       "   'Ascites 0 cases out of 20 participants (0.00 percent (%))',\n",
       "   'Constipation 2 cases out of 20 participants (10.00 percent (%))',\n",
       "   'Rectal haemorrhage 0 cases out of 20 participants (0.00 percent (%))',\n",
       "   'Vomiting 0 cases out of 20 participants (0.00 percent (%))',\n",
       "   'Fatigue 0 cases out of 20 participants (0.00 percent (%))']},\n",
       " {})"
      ]
     },
     "execution_count": 66,
     "metadata": {},
     "output_type": "execute_result"
    }
   ],
   "source": [
    "process_data_item('83b83400-1439-462d-bba3-42817b5b1fa1')\n",
    "#process_data_item('0a6d1b4c-244e-44e2-a229-62e4cbdfa979')\n",
    "#process_data_item('9f978634-637c-472f-a588-6f4bb2fb121f')"
   ]
  },
  {
   "cell_type": "code",
   "execution_count": 70,
   "id": "aa2e0297",
   "metadata": {
    "ExecuteTime": {
     "end_time": "2023-01-30T08:32:09.449378Z",
     "start_time": "2023-01-30T08:32:04.512215Z"
    }
   },
   "outputs": [],
   "source": [
    "data_items = []\n",
    "for key in file_json.keys():\n",
    "    new_qn, ct_json, secondary_ct_json = process_data_item(key)\n",
    "    file_json[key]['Statement'] = new_qn\n",
    "    \n",
    "    write_ct_json(file_json[key]['Primary_id'], ct_json)\n",
    "    \n",
    "    if file_json[key]['Type'] == 'Comparison':\n",
    "        write_ct_json(file_json[key]['Secondary_id'], secondary_ct_json)\n",
    "    \n",
    "# write the dev/train/test.json\n",
    "with open(f\"normalized/{filename}.json\", \"w\") as file:\n",
    "    json.dump(file_json, file, indent=4)"
   ]
  },
  {
   "cell_type": "code",
   "execution_count": null,
   "id": "f30a5ff1",
   "metadata": {},
   "outputs": [],
   "source": []
  }
 ],
 "metadata": {
  "kernelspec": {
   "display_name": "Python 3",
   "language": "python",
   "name": "python3"
  },
  "language_info": {
   "codemirror_mode": {
    "name": "ipython",
    "version": 3
   },
   "file_extension": ".py",
   "mimetype": "text/x-python",
   "name": "python",
   "nbconvert_exporter": "python",
   "pygments_lexer": "ipython3",
   "version": "3.8.8"
  },
  "toc": {
   "base_numbering": 1,
   "nav_menu": {},
   "number_sections": true,
   "sideBar": true,
   "skip_h1_title": false,
   "title_cell": "Table of Contents",
   "title_sidebar": "Contents",
   "toc_cell": false,
   "toc_position": {},
   "toc_section_display": true,
   "toc_window_display": false
  },
  "varInspector": {
   "cols": {
    "lenName": 16,
    "lenType": 16,
    "lenVar": 40
   },
   "kernels_config": {
    "python": {
     "delete_cmd_postfix": "",
     "delete_cmd_prefix": "del ",
     "library": "var_list.py",
     "varRefreshCmd": "print(var_dic_list())"
    },
    "r": {
     "delete_cmd_postfix": ") ",
     "delete_cmd_prefix": "rm(",
     "library": "var_list.r",
     "varRefreshCmd": "cat(var_dic_list()) "
    }
   },
   "types_to_exclude": [
    "module",
    "function",
    "builtin_function_or_method",
    "instance",
    "_Feature"
   ],
   "window_display": false
  }
 },
 "nbformat": 4,
 "nbformat_minor": 5
}
